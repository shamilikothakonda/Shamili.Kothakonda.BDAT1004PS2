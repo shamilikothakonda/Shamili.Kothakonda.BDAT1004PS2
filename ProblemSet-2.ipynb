{
 "cells": [
  {
   "cell_type": "markdown",
   "metadata": {},
   "source": [
    "<h4><font color = red>Question 1:</font></h4>\n",
    "\n",
    "<p><font color = green>Explanation:\n",
    "\n",
    "The value 6 is displayed when the last expression (a) is executed.\n",
    "\n",
    "1. First b() call:\n",
    "The function b() is called and a is made the global varuable. Then a=c(a) is executed, where function c(a) is called with value of a=0.\n",
    "c(a) returns a + 2 i.e., 0 + 2 = 2 and a is updated to 2.\n",
    "After the first call to b(), the value of a is updated to 2. \n",
    "\n",
    "2. Second b() call:\n",
    "The function b() is called and a=c(a) is executed, where function c(a) is called with value of a=2.\n",
    "c(a) returns a + 2 i.e., 2 + 2 = 4 and a is updated to 4.\n",
    "After the second call to b(), the value of a is updated to 4. \n",
    "\n",
    "3. Third b() call:\n",
    "The function b() is called and a=c(a) is executed, where function c(a) is called with value of a=4.\n",
    "c(a) returns a + 2 i.e., 4 + 2 = 6 and a is updated to 6.\n",
    "After the second call to b(), the value of a is updated to 6. \n",
    "\n",
    "4. Value of a:\n",
    "When a is executed, it displays the final value of a which is 6. </font></p>"
   ]
  },
  {
   "cell_type": "code",
   "execution_count": 9,
   "metadata": {},
   "outputs": [
    {
     "data": {
      "text/plain": [
       "6"
      ]
     },
     "execution_count": 9,
     "metadata": {},
     "output_type": "execute_result"
    }
   ],
   "source": [
    "a = 0 \n",
    "def  b(): \n",
    "    global  a \n",
    "    a  = c(a) \n",
    " \n",
    "def  c(a): \n",
    "    return  a  +  2 \n",
    "b()\n",
    "b()\n",
    "b()\n",
    "a"
   ]
  },
  {
   "cell_type": "markdown",
   "metadata": {},
   "source": [
    "<h4><font color = red>Question 2:</font></h4>\n",
    "<p><font color = red>Function fileLength(), given to you, takes the name of a file as input and returns the length of the file. If the file cannot be found by the interpreter or if it cannot be read as a text file, an exception will be raised. Modify function fileLength() so that a friendly message is printed instead</font></p>"
   ]
  },
  {
   "cell_type": "code",
   "execution_count": 11,
   "metadata": {},
   "outputs": [
    {
     "name": "stdout",
     "output_type": "stream",
     "text": [
      "123\n",
      "File idterm.py not found\n"
     ]
    }
   ],
   "source": [
    "def fileLength(filename):\n",
    "    try:\n",
    "        file = open(filename)\n",
    "        contents = file.read()\n",
    "        file.close()\n",
    "        print(len(contents))\n",
    "    except FileNotFoundError:\n",
    "        print(\"File \"+filename+ \" not found\")\n",
    "\n",
    "fileLength('midterm.py')\n",
    "fileLength('idterm.py')"
   ]
  },
  {
   "cell_type": "markdown",
   "metadata": {},
   "source": [
    "<h4><font color = red>Question 3:</font></h4>\n",
    "<p><font color = red>Write a class named Marsupial that can be used as shown below: \n",
    ">>>  m  =  Marsupial() \n",
    ">>>  m.put_in_pouch('doll') \n",
    ">>>  m.put_in_pouch('firetruck') \n",
    ">>>  m.put_in_pouch('kitten') \n",
    ">>>  m.pouch_contents()  \n",
    "['doll',  'firetruck',  'kitten']\n",
    " </font></p>"
   ]
  },
  {
   "cell_type": "code",
   "execution_count": 11,
   "metadata": {},
   "outputs": [
    {
     "data": {
      "text/plain": [
       "['doll', 'firetruck', 'kitten']"
      ]
     },
     "execution_count": 11,
     "metadata": {},
     "output_type": "execute_result"
    }
   ],
   "source": [
    "class Marsupial:\n",
    "    def __init__(self):\n",
    "        self.pouch = []\n",
    "\n",
    "    def put_in_pouch(self, item):\n",
    "        self.pouch.append(item)\n",
    "\n",
    "    def pouch_contents(self):\n",
    "        return self.pouch\n",
    "\n",
    "m  =  Marsupial() \n",
    "m.put_in_pouch('doll') \n",
    "m.put_in_pouch('firetruck') \n",
    "m.put_in_pouch('kitten') \n",
    "m.pouch_contents()"
   ]
  },
  {
   "cell_type": "markdown",
   "metadata": {},
   "source": [
    "<p><font color = red>Now write a class named Kangaroo as a subclass of Marsupial that inherits all the \n",
    "attributes of Marsupial and also: \n",
    "a. extends the Marsupial  __init__ constructor to take, as input, the \n",
    "coordinates x and y of the Kangaroo object, \n",
    "b. supports method jump that takes number values dx and dy as input and \n",
    "moves the kangaroo by dx units along the x-axis and by dy units along the y- \n",
    "axis, and \n",
    "c. overloads the __str__ operator so it behaves as shown below. </font></p>"
   ]
  },
  {
   "cell_type": "code",
   "execution_count": 13,
   "metadata": {},
   "outputs": [
    {
     "name": "stdout",
     "output_type": "stream",
     "text": [
      "I am a Kangaroo located at coordinates (0,0)\n",
      "I am a Kangaroo located at coordinates (3,0)\n"
     ]
    }
   ],
   "source": [
    "class Kangaroo(Marsupial):\n",
    "    def __init__(self, x, y):\n",
    "        super().__init__()\n",
    "        self.x = x\n",
    "        self.y = y\n",
    "\n",
    "    def jump(self, dx, dy):\n",
    "        self.x += dx\n",
    "        self.y += dy\n",
    "\n",
    "    def __str__(self):\n",
    "        return f\"I am a Kangaroo located at coordinates ({self.x},{self.y})\"\n",
    "k  =  Kangaroo(0,0) \n",
    "print(k)\n",
    "k.put_in_pouch('doll') \n",
    "k.put_in_pouch('firetruck') \n",
    "k.put_in_pouch('kitten') \n",
    "k.pouch_contents()  \n",
    "k.jump(1,0) \n",
    "k.jump(1,0) \n",
    "k.jump(1,0) \n",
    "print(k)"
   ]
  },
  {
   "cell_type": "markdown",
   "metadata": {},
   "source": [
    "<h4><font color = red>Question 4:</font></h4>\n",
    "<p><font color = red>Write function collatz() that takes a positive integer x as input and prints the \n",
    "Collatz sequence starting at x. A Collatz sequence is obtained by repeatedly applying \n",
    "this rule to the previous number x in the sequence: \n",
    " \n",
    "x = {  𝑥/2 𝑖𝑓 𝑥 𝑖𝑠 𝑒𝑣𝑒𝑛 3𝑥 \n",
    "+ 1 𝑖𝑓 𝑥 𝑖𝑠 𝑜𝑑𝑑 \n",
    " \n",
    "Your function should stop when the sequence gets to number 1. Your \n",
    "implementation must be recursive, without any loops.</font></p>"
   ]
  },
  {
   "cell_type": "code",
   "execution_count": 14,
   "metadata": {},
   "outputs": [
    {
     "name": "stdout",
     "output_type": "stream",
     "text": [
      "10\n",
      "5\n",
      "16\n",
      "8\n",
      "4\n",
      "2\n",
      "1\n"
     ]
    }
   ],
   "source": [
    "def collatz(x):\n",
    "    print(x)\n",
    "    \n",
    "    if x == 1:\n",
    "        return\n",
    "    \n",
    "    if x % 2 == 0:\n",
    "        collatz(x // 2)  \n",
    "    else:\n",
    "        collatz(3 * x + 1)  \n",
    "        \n",
    "collatz(10)"
   ]
  },
  {
   "cell_type": "markdown",
   "metadata": {},
   "source": [
    "<h4><font color = red>Question 5:</font></h4>\n",
    "<p><font color = red>Write a recursive method binary() that takes a non-negative integer n and prints the binary representation of integer n.</font></p>"
   ]
  },
  {
   "cell_type": "code",
   "execution_count": 19,
   "metadata": {},
   "outputs": [
    {
     "name": "stdout",
     "output_type": "stream",
     "text": [
      "0"
     ]
    }
   ],
   "source": [
    "def binary(n):\n",
    "    \n",
    "    if n < 2:\n",
    "        print(n, end='')  \n",
    "    \n",
    "    else:\n",
    "        binary(n // 2)\n",
    "        print(n % 2, end='')  \n",
    "        \n",
    "binary(0)\n",
    "#binary(1)\n",
    "#inary(3)\n",
    "#binary(9)\n"
   ]
  },
  {
   "cell_type": "markdown",
   "metadata": {},
   "source": [
    "<h4><font color = red>Question 6:</font></h4>\n",
    "<p><font color = red>Implement a class named HeadingParser that can be used to parse an HTML document, and retrieve and print all the headings in the document. You should implement your class as a subclass of HTMLParser, defined in Standard Library module html.parser. When fed a string containing HTML code, your class should print the headings, one per line and in the order in which they appear in the document. Each heading should be indented as follows: an h1 heading should have indentation 0, and h2 heading should have indentation 1, etc. Test your implementation using w3c.html. </font></p>"
   ]
  },
  {
   "cell_type": "code",
   "execution_count": 40,
   "metadata": {},
   "outputs": [
    {
     "name": "stdout",
     "output_type": "stream",
     "text": [
      " W3C Mission\n",
      "  Principles\n"
     ]
    }
   ],
   "source": [
    "from html.parser import HTMLParser\n",
    "\n",
    "class HeadingParser(HTMLParser):\n",
    "    def __init__(self):\n",
    "        super().__init__()\n",
    "        self.current_heading = None\n",
    "       \n",
    "    def handle_starttag(self, tag, attrs):\n",
    "        # Check if the tag is a heading and store in heading level\n",
    "        if tag in ['h1', 'h2', 'h3', 'h4', 'h5', 'h6']:\n",
    "            self.current_heading = int(tag[1])  \n",
    "\n",
    "    def handle_endtag(self, tag):\n",
    "        # Reset current heading when end of heading tag is reached\n",
    "        if tag in ['h1', 'h2', 'h3', 'h4', 'h5', 'h6']:\n",
    "            self.current_heading = None\n",
    "\n",
    "    def handle_data(self, data):\n",
    "        # Print heading with indentation\n",
    "        if self.current_heading:\n",
    "            indentation = ' ' * (self.current_heading - 1)  \n",
    "            print(indentation,data.strip())\n",
    "\n",
    "with open('C:\\\\Users\\\\harin\\\\Desktop\\\\Shamili-Assignments\\\\DAP\\\\ProblemSet-2\\\\w3c.html', 'r') as file:\n",
    "    content = file.read()\n",
    "\n",
    "parser = HeadingParser()\n",
    "parser.feed(content)"
   ]
  },
  {
   "cell_type": "markdown",
   "metadata": {},
   "source": [
    "<h4><font color = red>Question 7:</font></h4>\n",
    "<p><font color = red>Implement recursive function webdir() that takes as input: a URL (as a string) and non-negative integers depth and indent. Your function should visit every web page reachable from the starting URL web page in depth clicks or less, and print each web page's URL. As shown below, indentation, specified by indent,  should be used to indicate the depth of a URL.</font></p>"
   ]
  },
  {
   "cell_type": "code",
   "execution_count": 7,
   "metadata": {},
   "outputs": [
    {
     "name": "stdout",
     "output_type": "stream",
     "text": [
      "http://reed.cs.depaul.edu/lperkovic/csc242/test1.html\n",
      "Failed to access http://reed.cs.depaul.edu/lperkovic/csc242/test1.html\n"
     ]
    }
   ],
   "source": [
    "import requests\n",
    "from bs4 import BeautifulSoup\n",
    "from urllib.parse import urljoin\n",
    "\n",
    "def webdir(url, depth, indent):\n",
    "    print(\" \" * indent + url)\n",
    "\n",
    "    if depth == 0:\n",
    "        return\n",
    "    \n",
    "    try:\n",
    "        # Get the contents of the URL\n",
    "        response = requests.get(url)\n",
    "        response.raise_for_status()  \n",
    "        soup = BeautifulSoup(response.text, 'html.parser')\n",
    "\n",
    "        # Find all the links \n",
    "        for link in soup.find_all('a', href=True):\n",
    "            # Get the URL for each link\n",
    "            new_url = urljoin(url, link['href'])\n",
    "            \n",
    "            webdir(new_url, depth - 1, indent + 1)\n",
    "\n",
    "    except requests.exceptions.RequestException as e:\n",
    "        print(\" \" * indent + \"Failed to access\",url)\n",
    "\n",
    "webdir('http://reed.cs.depaul.edu/lperkovic/csc242/test1.html' ,  2,  0) "
   ]
  },
  {
   "cell_type": "markdown",
   "metadata": {},
   "source": [
    "<h4><font color = red>Question 8:</font></h4>\n",
    "<p><font color = red>Write SQL queries on the below database table that return: </font></p>"
   ]
  },
  {
   "cell_type": "code",
   "execution_count": 81,
   "metadata": {},
   "outputs": [],
   "source": [
    "import sqlite3\n",
    "con = sqlite3.connect('Weather.db')\n",
    "cur = con.cursor()\n",
    "cur.execute(\"CREATE TABLE IF NOT EXISTS Weather (City, Country, Season , Temperature, Rainfall)\")\n",
    "data = [\n",
    "    ('Mumbai' , 'India', 'Winter', 24.8, 5.9),\n",
    "    ('Mumbai' , 'India', 'Spring', 28.4, 16.2),\n",
    "    ('Mumbai' , 'India', 'Summer', 27.9, 1549.4),\n",
    "    ('Mumbai' , 'India', 'Fall', 27.6, 346.0),\n",
    "    ('London', 'United Kingdom', 'Winter', 4.2, 207.7),\n",
    "    ('London', 'United Kingdom', 'Spring', 8.3, 169.6),\n",
    "    ('London', 'United Kingdom', 'Summer', 15.7, 157.0),\n",
    "    ('London', 'United Kingdom', 'Fall', 10.4, 218.5),\n",
    "    ('Cairo', 'Egypt', 'Winter', 13.6, 16.5),\n",
    "    ('Cairo', 'Egypt', 'Spring', 20.7, 6.5),\n",
    "    ('Cairo', 'Egypt', 'Summer', 27.7, 0.1),\n",
    "    ('Cairo', 'Egypt', 'Fall', 22.2, 4.5),\n",
    "    ]\n",
    "cur.executemany(\"INSERT INTO Weather (City,Country,Season ,Temperature,Rainfall) VALUES (?, ?, ?, ?, ?)\", data)\n",
    "\n",
    "con.commit()"
   ]
  },
  {
   "cell_type": "markdown",
   "metadata": {},
   "source": [
    "<p><font color = red>a. All the temperature data. </font></p>"
   ]
  },
  {
   "cell_type": "code",
   "execution_count": 82,
   "metadata": {},
   "outputs": [
    {
     "name": "stdout",
     "output_type": "stream",
     "text": [
      "(24.8,)\n",
      "(28.4,)\n",
      "(27.9,)\n",
      "(27.6,)\n",
      "(4.2,)\n",
      "(8.3,)\n",
      "(15.7,)\n",
      "(10.4,)\n",
      "(13.6,)\n",
      "(20.7,)\n",
      "(27.7,)\n",
      "(22.2,)\n"
     ]
    }
   ],
   "source": [
    "cur.execute(\"SELECT Temperature FROM Weather;\")\n",
    "for record in cur:\n",
    "    print(record)"
   ]
  },
  {
   "cell_type": "markdown",
   "metadata": {},
   "source": [
    "<p><font color = red>b. All the cities, but without repetition. </font></p>"
   ]
  },
  {
   "cell_type": "code",
   "execution_count": 83,
   "metadata": {},
   "outputs": [
    {
     "name": "stdout",
     "output_type": "stream",
     "text": [
      "('Mumbai',)\n",
      "('London',)\n",
      "('Cairo',)\n"
     ]
    }
   ],
   "source": [
    "cur.execute(\" SELECT DISTINCT City FROM Weather ;\")\n",
    "for record in cur:\n",
    "    print(record)"
   ]
  },
  {
   "cell_type": "markdown",
   "metadata": {},
   "source": [
    "<p><font color = red>c. All the records for India.</font></p>"
   ]
  },
  {
   "cell_type": "code",
   "execution_count": 84,
   "metadata": {},
   "outputs": [
    {
     "name": "stdout",
     "output_type": "stream",
     "text": [
      "('Mumbai', 'India', 'Winter', 24.8, 5.9)\n",
      "('Mumbai', 'India', 'Spring', 28.4, 16.2)\n",
      "('Mumbai', 'India', 'Summer', 27.9, 1549.4)\n",
      "('Mumbai', 'India', 'Fall', 27.6, 346.0)\n"
     ]
    }
   ],
   "source": [
    "cur.execute(\"SELECT * FROM Weather WHERE Country = 'India';\")\n",
    "for record in cur:\n",
    "    print(record)"
   ]
  },
  {
   "cell_type": "markdown",
   "metadata": {},
   "source": [
    "<p><font color = red>d. All the Fall records. </font></p>"
   ]
  },
  {
   "cell_type": "code",
   "execution_count": 85,
   "metadata": {},
   "outputs": [
    {
     "name": "stdout",
     "output_type": "stream",
     "text": [
      "('Mumbai', 'India', 'Fall', 27.6, 346.0)\n",
      "('London', 'United Kingdom', 'Fall', 10.4, 218.5)\n",
      "('Cairo', 'Egypt', 'Fall', 22.2, 4.5)\n"
     ]
    }
   ],
   "source": [
    "cur.execute(\"SELECT * FROM Weather WHERE Season = 'Fall';\")\n",
    "for record in cur:\n",
    "    print(record)"
   ]
  },
  {
   "cell_type": "markdown",
   "metadata": {},
   "source": [
    "<p><font color = red>e. The city, country, and season for which the average rainfall is between 200 and 400 millimeters. </font></p>"
   ]
  },
  {
   "cell_type": "code",
   "execution_count": 86,
   "metadata": {},
   "outputs": [
    {
     "name": "stdout",
     "output_type": "stream",
     "text": [
      "('Mumbai', 'India', 'Fall')\n",
      "('London', 'United Kingdom', 'Winter')\n",
      "('London', 'United Kingdom', 'Fall')\n"
     ]
    }
   ],
   "source": [
    "cur.execute(\"SELECT City, Country, Season FROM Weather WHERE Rainfall BETWEEN 200 AND 400;\")\n",
    "for record in cur:\n",
    "    print(record)"
   ]
  },
  {
   "cell_type": "markdown",
   "metadata": {},
   "source": [
    "<p><font color = red>f. The city and country for which the average Fall temperature is above 20 degrees, in increasing temperature order. </font></p>"
   ]
  },
  {
   "cell_type": "code",
   "execution_count": 87,
   "metadata": {},
   "outputs": [
    {
     "name": "stdout",
     "output_type": "stream",
     "text": [
      "('Cairo', 'Egypt')\n",
      "('Mumbai', 'India')\n"
     ]
    }
   ],
   "source": [
    "cur.execute(''' SELECT City, Country \n",
    "FROM Weather \n",
    "WHERE Season = 'Fall' AND Temperature > 20 \n",
    "ORDER BY Temperature ASC; ''')\n",
    "for record in cur:\n",
    "    print(record)"
   ]
  },
  {
   "cell_type": "markdown",
   "metadata": {},
   "source": [
    "<p><font color = red>g. The total annual rainfall for Cairo. </font></p>"
   ]
  },
  {
   "cell_type": "code",
   "execution_count": 88,
   "metadata": {},
   "outputs": [
    {
     "name": "stdout",
     "output_type": "stream",
     "text": [
      "(27.6,)\n"
     ]
    }
   ],
   "source": [
    "cur.execute(''' SELECT SUM(Rainfall) AS Total_Annual_Rainfall \n",
    "FROM Weather \n",
    "WHERE City = 'Cairo';''')\n",
    "for record in cur:\n",
    "    print(record)"
   ]
  },
  {
   "cell_type": "markdown",
   "metadata": {},
   "source": [
    "<p><font color = red>h. The total rainfall for each season.</font></p> "
   ]
  },
  {
   "cell_type": "code",
   "execution_count": 89,
   "metadata": {},
   "outputs": [
    {
     "name": "stdout",
     "output_type": "stream",
     "text": [
      "('Fall', 569.0)\n",
      "('Spring', 192.29999999999998)\n",
      "('Summer', 1706.5)\n",
      "('Winter', 230.1)\n"
     ]
    }
   ],
   "source": [
    "cur.execute(''' SELECT Season, SUM(Rainfall) AS Total_Rainfall \n",
    "FROM Weather \n",
    "GROUP BY Season;''')\n",
    "for record in cur:\n",
    "    print(record)"
   ]
  },
  {
   "cell_type": "markdown",
   "metadata": {},
   "source": [
    "<h4><font color = red>Question 9:</font></h4>\n",
    "<p><font color = red>Suppose list words is defined as follows: words  =  ['The',  'quick',  'brown',  'fox',  'jumps',  'over', 'the',  'lazy',  'dog'] \n",
    "Write list comprehension expressions that use list words and generate the following lists: </font></p>"
   ]
  },
  {
   "cell_type": "markdown",
   "metadata": {},
   "source": [
    "<p><font color = red>a. ['THE',  'QUICK',  'BROWN',  'FOX',  'JUMPS',  'OVER',  'THE', 'LAZY',  'DOG'] </font></p>"
   ]
  },
  {
   "cell_type": "code",
   "execution_count": 6,
   "metadata": {},
   "outputs": [
    {
     "data": {
      "text/plain": [
       "['THE', 'QUICK', 'BROWN', 'FOX', 'JUMPS', 'OVER', 'THE', 'LAZY', 'DOG']"
      ]
     },
     "execution_count": 6,
     "metadata": {},
     "output_type": "execute_result"
    }
   ],
   "source": [
    "words  =  ['The',  'quick',  'brown',  'fox',  'jumps',  'over', 'the',  'lazy',  'dog'] \n",
    "a = [word.upper() for word in words]\n",
    "a"
   ]
  },
  {
   "cell_type": "markdown",
   "metadata": {},
   "source": [
    "<p><font color = red>b. ['the',  'quick',  'brown',  'fox',  'jumps',  'over',  'the', 'lazy',  'dog']</font></p>"
   ]
  },
  {
   "cell_type": "code",
   "execution_count": 7,
   "metadata": {},
   "outputs": [
    {
     "data": {
      "text/plain": [
       "['the', 'quick', 'brown', 'fox', 'jumps', 'over', 'the', 'lazy', 'dog']"
      ]
     },
     "execution_count": 7,
     "metadata": {},
     "output_type": "execute_result"
    }
   ],
   "source": [
    "words  =  ['The',  'quick',  'brown',  'fox',  'jumps',  'over', 'the',  'lazy',  'dog'] \n",
    "b = [word.lower() for word in words]\n",
    "b"
   ]
  },
  {
   "cell_type": "markdown",
   "metadata": {},
   "source": [
    "<p><font color = red>c. [3,  5,  5,  3,  5,  4,  3,  4,  3] (the list of lengths of words in list words). </font></p>"
   ]
  },
  {
   "cell_type": "code",
   "execution_count": 8,
   "metadata": {},
   "outputs": [
    {
     "data": {
      "text/plain": [
       "[3, 5, 5, 3, 5, 4, 3, 4, 3]"
      ]
     },
     "execution_count": 8,
     "metadata": {},
     "output_type": "execute_result"
    }
   ],
   "source": [
    "words  =  ['The',  'quick',  'brown',  'fox',  'jumps',  'over', 'the',  'lazy',  'dog'] \n",
    "c = [len(word) for word in words]\n",
    "c"
   ]
  },
  {
   "cell_type": "markdown",
   "metadata": {},
   "source": [
    "<p><font color = red>d. [['THE',  'the',  3],  ['QUICK',  'quick',  5],  ['BROWN', 'brown',  5],  ['FOX',  'fox',  3], ['JUMPS',  'jumps',  5], ['OVER',  'over',  4],  ['THE',  'the',  3],  ['LAZY',  'lazy', 4],  ['DOG',  'dog',  3]] (the list containing a list for every word of list words, where each list contains the word in uppercase and lowercase and the length of the word.) </font></p>"
   ]
  },
  {
   "cell_type": "code",
   "execution_count": 9,
   "metadata": {},
   "outputs": [
    {
     "data": {
      "text/plain": [
       "[['THE', 'the', 3],\n",
       " ['QUICK', 'quick', 5],\n",
       " ['BROWN', 'brown', 5],\n",
       " ['FOX', 'fox', 3],\n",
       " ['JUMPS', 'jumps', 5],\n",
       " ['OVER', 'over', 4],\n",
       " ['THE', 'the', 3],\n",
       " ['LAZY', 'lazy', 4],\n",
       " ['DOG', 'dog', 3]]"
      ]
     },
     "execution_count": 9,
     "metadata": {},
     "output_type": "execute_result"
    }
   ],
   "source": [
    "words  =  ['The',  'quick',  'brown',  'fox',  'jumps',  'over', 'the',  'lazy',  'dog'] \n",
    "d = [[word.upper(), word.lower(), len(word)] for word in words]\n",
    "d"
   ]
  },
  {
   "cell_type": "markdown",
   "metadata": {},
   "source": [
    "<p><font color = red>e.  ['The',  'quick',  'brown',  'fox',  'jumps',  'over',  'the', 'lazy',  'dog'] (the list of words in list words containing 4 or more characters.) </font></p>"
   ]
  },
  {
   "cell_type": "code",
   "execution_count": 10,
   "metadata": {},
   "outputs": [
    {
     "data": {
      "text/plain": [
       "['quick', 'brown', 'jumps', 'over', 'lazy']"
      ]
     },
     "execution_count": 10,
     "metadata": {},
     "output_type": "execute_result"
    }
   ],
   "source": [
    "words  =  ['The',  'quick',  'brown',  'fox',  'jumps',  'over', 'the',  'lazy',  'dog'] \n",
    "e = [word for word in words if len(word) >= 4]\n",
    "e"
   ]
  }
 ],
 "metadata": {
  "kernelspec": {
   "display_name": "Python 3 (ipykernel)",
   "language": "python",
   "name": "python3"
  },
  "language_info": {
   "codemirror_mode": {
    "name": "ipython",
    "version": 3
   },
   "file_extension": ".py",
   "mimetype": "text/x-python",
   "name": "python",
   "nbconvert_exporter": "python",
   "pygments_lexer": "ipython3",
   "version": "3.12.4"
  }
 },
 "nbformat": 4,
 "nbformat_minor": 4
}
